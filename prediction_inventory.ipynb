{
 "cells": [
  {
   "cell_type": "code",
   "execution_count": 3,
   "metadata": {
    "collapsed": true,
    "pycharm": {
     "is_executing": false,
     "name": "#%%\n"
    }
   },
   "outputs": [
    {
     "name": "stderr",
     "text": [
      "/Users/tasrifahmed/PyProjects/final_project/lib/python3.7/site-packages/sklearn/externals/joblib/__init__.py:15: FutureWarning: sklearn.externals.joblib is deprecated in 0.21 and will be removed in 0.23. Please import this functionality directly from joblib, which can be installed with: pip install joblib. If this warning is raised when loading pickled models, you may need to re-serialize those models with scikit-learn 0.21+.\n  warnings.warn(msg, category=FutureWarning)\n"
     ],
     "output_type": "stream"
    }
   ],
   "source": [
    "import pandas as pd  \n",
    "import matplotlib.pyplot as plt  \n",
    "from sklearn.model_selection import train_test_split \n",
    "from sklearn.linear_model import LinearRegression\n",
    "from sklearn import preprocessing\n",
    "import numpy as np\n",
    "from sklearn.cluster import KMeans\n",
    "from sklearn import svm\n",
    "from sklearn import metrics\n",
    "import pickle\n",
    "from sklearn.externals import joblib\n",
    "%matplotlib inline"
   ]
  },
  {
   "cell_type": "code",
   "execution_count": 4,
   "outputs": [
    {
     "data": {
      "text/plain": "          category                      product  gross_sale   qty  month  \\\n0  Fresh Vegitable                 Green Chilli        1.25  0.25      1   \n1          Grocery         Kishan Special Toast        3.49  1.00      1   \n2             Fish           Hilsha 900 G Up BD       23.64  1.69      1   \n3             Beef               Beef with Bone       25.37  5.78      1   \n4          Grocery  Chashi  Chinigura Chal 5 Kg       18.99  1.00      1   \n\n   class  \n0      3  \n1      1  \n2      1  \n3      3  \n4      1  ",
      "text/html": "<div>\n<style scoped>\n    .dataframe tbody tr th:only-of-type {\n        vertical-align: middle;\n    }\n\n    .dataframe tbody tr th {\n        vertical-align: top;\n    }\n\n    .dataframe thead th {\n        text-align: right;\n    }\n</style>\n<table border=\"1\" class=\"dataframe\">\n  <thead>\n    <tr style=\"text-align: right;\">\n      <th></th>\n      <th>category</th>\n      <th>product</th>\n      <th>gross_sale</th>\n      <th>qty</th>\n      <th>month</th>\n      <th>class</th>\n    </tr>\n  </thead>\n  <tbody>\n    <tr>\n      <th>0</th>\n      <td>Fresh Vegitable</td>\n      <td>Green Chilli</td>\n      <td>1.25</td>\n      <td>0.25</td>\n      <td>1</td>\n      <td>3</td>\n    </tr>\n    <tr>\n      <th>1</th>\n      <td>Grocery</td>\n      <td>Kishan Special Toast</td>\n      <td>3.49</td>\n      <td>1.00</td>\n      <td>1</td>\n      <td>1</td>\n    </tr>\n    <tr>\n      <th>2</th>\n      <td>Fish</td>\n      <td>Hilsha 900 G Up BD</td>\n      <td>23.64</td>\n      <td>1.69</td>\n      <td>1</td>\n      <td>1</td>\n    </tr>\n    <tr>\n      <th>3</th>\n      <td>Beef</td>\n      <td>Beef with Bone</td>\n      <td>25.37</td>\n      <td>5.78</td>\n      <td>1</td>\n      <td>3</td>\n    </tr>\n    <tr>\n      <th>4</th>\n      <td>Grocery</td>\n      <td>Chashi  Chinigura Chal 5 Kg</td>\n      <td>18.99</td>\n      <td>1.00</td>\n      <td>1</td>\n      <td>1</td>\n    </tr>\n  </tbody>\n</table>\n</div>"
     },
     "metadata": {},
     "output_type": "execute_result",
     "execution_count": 4
    }
   ],
   "source": [
    "product_dataset = pd.read_csv('revised_data.csv')\n",
    "product_dataset.shape\n",
    "product_dataset.head()"
   ],
   "metadata": {
    "collapsed": false,
    "pycharm": {
     "name": "#%%\n",
     "is_executing": false
    }
   }
  },
  {
   "cell_type": "code",
   "execution_count": 5,
   "outputs": [
    {
     "name": "stdout",
     "text": [
      "     gross_sale   qty  month  category_Achar  category_Beef  \\\n0          1.25  0.25      1               0              0   \n1          3.49  1.00      1               0              0   \n2         23.64  1.69      1               0              0   \n3         25.37  5.78      1               0              1   \n4         18.99  1.00      1               0              0   \n..          ...   ...    ...             ...            ...   \n245        3.49  1.00      5               0              0   \n246        4.63  0.58      5               0              0   \n247       16.26  7.78      5               0              0   \n248        1.98  2.00      5               0              0   \n249        1.49  1.00      5               0              0   \n\n     category_Beef Share  category_Beverages  category_Chicken  \\\n0                      0                   0                 0   \n1                      0                   0                 0   \n2                      0                   0                 0   \n3                      0                   0                 0   \n4                      0                   0                 0   \n..                   ...                 ...               ...   \n245                    0                   0                 0   \n246                    0                   0                 0   \n247                    0                   0                 1   \n248                    0                   0                 0   \n249                    0                   0                 0   \n\n     category_Cosmetic  category_Fish  category_Fresh Vegitable  \\\n0                    0              0                         1   \n1                    0              0                         0   \n2                    0              1                         0   \n3                    0              0                         0   \n4                    0              0                         0   \n..                 ...            ...                       ...   \n245                  0              0                         0   \n246                  0              0                         0   \n247                  0              0                         0   \n248                  0              0                         0   \n249                  0              0                         0   \n\n     category_Frozen  category_Goat  category_Grocery  category_Lamb  \\\n0                  0              0                 0              0   \n1                  0              0                 1              0   \n2                  0              0                 0              0   \n3                  0              0                 0              0   \n4                  0              0                 1              0   \n..               ...            ...               ...            ...   \n245                0              0                 0              0   \n246                0              0                 0              0   \n247                0              0                 0              0   \n248                0              0                 1              0   \n249                0              0                 1              0   \n\n     category_None  category_Ready Made Food  category_Spices  category_Sweet  \n0                0                         0                0               0  \n1                0                         0                0               0  \n2                0                         0                0               0  \n3                0                         0                0               0  \n4                0                         0                0               0  \n..             ...                       ...              ...             ...  \n245              1                         0                0               0  \n246              0                         0                0               1  \n247              0                         0                0               0  \n248              0                         0                0               0  \n249              0                         0                0               0  \n\n[250 rows x 19 columns]\n"
     ],
     "output_type": "stream"
    }
   ],
   "source": [
    "no_class= product_dataset.drop('class',axis=1)\n",
    "pre_data = no_class.drop('product', axis=1)\n",
    "X = pd.get_dummies(pre_data)\n",
    "\n",
    "\n",
    "\n",
    "\n",
    "\n",
    "print(X)\n",
    "\n",
    "y = product_dataset['class']\n",
    "\n",
    "#X.category.unique()\n",
    "#print(X.category.unique())\n",
    "\n",
    "#X.category[X.category == 'Fresh Vegitable'] = 1\n",
    "#print(X)\n"
   ],
   "metadata": {
    "collapsed": false,
    "pycharm": {
     "name": "#%%\n",
     "is_executing": false
    }
   }
  },
  {
   "cell_type": "code",
   "execution_count": 6,
   "outputs": [
    {
     "name": "stdout",
     "text": [
      "Index(['gross_sale', 'qty', 'month', 'category_Achar', 'category_Beef',\n       'category_Beef Share', 'category_Beverages', 'category_Chicken',\n       'category_Cosmetic', 'category_Fish', 'category_Fresh Vegitable',\n       'category_Frozen', 'category_Goat', 'category_Grocery', 'category_Lamb',\n       'category_None', 'category_Ready Made Food', 'category_Spices',\n       'category_Sweet'],\n      dtype='object')\n"
     ],
     "output_type": "stream"
    },
    {
     "data": {
      "text/plain": "['allcollumn.pkl']"
     },
     "metadata": {},
     "output_type": "execute_result",
     "execution_count": 6
    }
   ],
   "source": [
    "X_columns = X.columns\n",
    "print(X_columns)\n",
    "\n",
    "filename = 'allcollumn.pkl'\n",
    "joblib.dump(X_columns, filename)"
   ],
   "metadata": {
    "collapsed": false,
    "pycharm": {
     "name": "#%%\n",
     "is_executing": false
    }
   }
  },
  {
   "cell_type": "code",
   "execution_count": 7,
   "outputs": [
    {
     "data": {
      "text/plain": "     gross_sale   qty  month  category_Achar  category_Beef  \\\n70         7.98  2.00      2               0              0   \n35        15.99  1.00      1               0              0   \n28         2.99  1.00      1               0              0   \n156        3.99  1.00      4               0              0   \n27         3.49  1.00      1               0              0   \n130        2.40  0.48      3               0              0   \n196        6.98  2.00      4               0              0   \n214        7.32  1.63      5               0              0   \n114        5.99  1.20      3               0              0   \n98         8.52  2.44      3               0              1   \n129        1.50  1.00      3               0              0   \n160       34.68  6.95      4               0              1   \n242        7.53  1.51      5               0              0   \n5          4.49  1.00      1               0              0   \n100       16.79  5.81      3               0              0   \n23        24.20  1.73      1               0              0   \n47         6.56  3.14      2               0              0   \n54         2.00  1.00      2               0              0   \n238        1.25  1.00      5               0              0   \n237        4.00  1.00      5               0              0   \n176        3.99  1.00      4               0              0   \n21        21.65  6.56      1               0              0   \n108        5.49  1.00      3               0              0   \n45         1.25  1.00      1               0              0   \n68         3.49  1.00      2               0              0   \n77         5.49  1.00      2               0              0   \n3         25.37  5.78      1               0              1   \n103        4.99  1.00      3               0              0   \n178        5.97  3.00      4               0              0   \n110        5.49  1.00      3               0              0   \n76         7.99  1.00      2               0              0   \n1          3.49  1.00      1               0              0   \n95         6.98  2.00      2               0              0   \n140        8.97  3.00      3               0              0   \n96         1.45  1.00      2               0              0   \n73         2.10  0.42      2               0              0   \n99         7.99  1.00      3               0              0   \n14         7.99  1.00      1               0              0   \n69         3.49  1.00      2               0              0   \n127        7.99  1.00      3               0              0   \n184        9.24  2.80      4               0              0   \n55        12.48  2.50      2               0              0   \n233       19.47  3.25      5               0              0   \n50         8.99  1.00      2               0              0   \n56         0.02  1.00      2               0              0   \n58         1.99  1.00      2               0              0   \n217        5.79  1.16      5               0              0   \n125        1.99  1.00      3               0              0   \n182       49.25  1.00      4               0              0   \n104        4.89  1.00      3               0              0   \n\n     category_Beef Share  category_Beverages  category_Chicken  \\\n70                     0                   0                 0   \n35                     0                   0                 0   \n28                     0                   0                 0   \n156                    0                   0                 0   \n27                     0                   0                 0   \n130                    0                   0                 0   \n196                    0                   0                 0   \n214                    0                   0                 0   \n114                    0                   0                 0   \n98                     0                   0                 0   \n129                    0                   0                 0   \n160                    0                   0                 0   \n242                    0                   0                 0   \n5                      0                   0                 0   \n100                    0                   0                 0   \n23                     0                   0                 0   \n47                     0                   0                 1   \n54                     0                   0                 0   \n238                    0                   0                 0   \n237                    0                   0                 0   \n176                    0                   0                 0   \n21                     0                   0                 1   \n108                    0                   0                 0   \n45                     0                   0                 0   \n68                     0                   0                 0   \n77                     0                   0                 0   \n3                      0                   0                 0   \n103                    0                   0                 0   \n178                    0                   0                 0   \n110                    0                   0                 0   \n76                     0                   0                 0   \n1                      0                   0                 0   \n95                     0                   0                 0   \n140                    0                   0                 0   \n96                     0                   0                 0   \n73                     0                   0                 0   \n99                     0                   0                 0   \n14                     0                   0                 0   \n69                     0                   0                 0   \n127                    0                   0                 0   \n184                    0                   0                 1   \n55                     0                   0                 0   \n233                    0                   0                 0   \n50                     0                   0                 0   \n56                     0                   0                 0   \n58                     0                   0                 0   \n217                    0                   0                 0   \n125                    0                   0                 0   \n182                    0                   0                 0   \n104                    0                   0                 0   \n\n     category_Cosmetic  category_Fish  category_Fresh Vegitable  \\\n70                   0              1                         0   \n35                   0              0                         0   \n28                   0              0                         0   \n156                  0              0                         0   \n27                   0              0                         0   \n130                  0              0                         1   \n196                  0              0                         0   \n214                  0              0                         1   \n114                  0              0                         1   \n98                   0              0                         0   \n129                  0              0                         1   \n160                  0              0                         0   \n242                  0              0                         1   \n5                    0              0                         1   \n100                  0              1                         0   \n23                   0              1                         0   \n47                   0              0                         0   \n54                   0              0                         0   \n238                  0              0                         0   \n237                  0              0                         0   \n176                  0              1                         0   \n21                   0              0                         0   \n108                  0              0                         0   \n45                   0              0                         1   \n68                   0              0                         0   \n77                   0              1                         0   \n3                    0              0                         0   \n103                  0              0                         0   \n178                  0              0                         0   \n110                  0              0                         0   \n76                   0              0                         0   \n1                    0              0                         0   \n95                   0              0                         0   \n140                  0              0                         0   \n96                   0              0                         0   \n73                   0              0                         1   \n99                   0              0                         0   \n14                   0              0                         0   \n69                   0              0                         0   \n127                  0              0                         0   \n184                  0              0                         0   \n55                   0              0                         1   \n233                  0              1                         0   \n50                   0              1                         0   \n56                   0              0                         0   \n58                   0              0                         1   \n217                  0              0                         1   \n125                  0              0                         0   \n182                  0              0                         0   \n104                  0              1                         0   \n\n     category_Frozen  category_Goat  category_Grocery  category_Lamb  \\\n70                 0              0                 0              0   \n35                 0              0                 0              0   \n28                 0              0                 0              0   \n156                0              0                 0              0   \n27                 1              0                 0              0   \n130                0              0                 0              0   \n196                1              0                 0              0   \n214                0              0                 0              0   \n114                0              0                 0              0   \n98                 0              0                 0              0   \n129                0              0                 0              0   \n160                0              0                 0              0   \n242                0              0                 0              0   \n5                  0              0                 0              0   \n100                0              0                 0              0   \n23                 0              0                 0              0   \n47                 0              0                 0              0   \n54                 0              0                 0              0   \n238                0              0                 0              0   \n237                0              0                 0              0   \n176                0              0                 0              0   \n21                 0              0                 0              0   \n108                0              0                 1              0   \n45                 0              0                 0              0   \n68                 0              0                 1              0   \n77                 0              0                 0              0   \n3                  0              0                 0              0   \n103                1              0                 0              0   \n178                0              0                 0              0   \n110                0              0                 1              0   \n76                 0              0                 1              0   \n1                  0              0                 1              0   \n95                 0              0                 1              0   \n140                0              0                 1              0   \n96                 0              0                 0              0   \n73                 0              0                 0              0   \n99                 1              0                 0              0   \n14                 1              0                 0              0   \n69                 1              0                 0              0   \n127                1              0                 0              0   \n184                0              0                 0              0   \n55                 0              0                 0              0   \n233                0              0                 0              0   \n50                 0              0                 0              0   \n56                 0              0                 0              0   \n58                 0              0                 0              0   \n217                0              0                 0              0   \n125                0              0                 0              0   \n182                0              0                 0              0   \n104                0              0                 0              0   \n\n     category_None  category_Ready Made Food  category_Spices  category_Sweet  \n70               0                         0                0               0  \n35               0                         0                0               1  \n28               0                         0                1               0  \n156              0                         0                1               0  \n27               0                         0                0               0  \n130              0                         0                0               0  \n196              0                         0                0               0  \n214              0                         0                0               0  \n114              0                         0                0               0  \n98               0                         0                0               0  \n129              0                         0                0               0  \n160              0                         0                0               0  \n242              0                         0                0               0  \n5                0                         0                0               0  \n100              0                         0                0               0  \n23               0                         0                0               0  \n47               0                         0                0               0  \n54               0                         1                0               0  \n238              0                         1                0               0  \n237              0                         1                0               0  \n176              0                         0                0               0  \n21               0                         0                0               0  \n108              0                         0                0               0  \n45               0                         0                0               0  \n68               0                         0                0               0  \n77               0                         0                0               0  \n3                0                         0                0               0  \n103              0                         0                0               0  \n178              0                         0                1               0  \n110              0                         0                0               0  \n76               0                         0                0               0  \n1                0                         0                0               0  \n95               0                         0                0               0  \n140              0                         0                0               0  \n96               0                         0                1               0  \n73               0                         0                0               0  \n99               0                         0                0               0  \n14               0                         0                0               0  \n69               0                         0                0               0  \n127              0                         0                0               0  \n184              0                         0                0               0  \n55               0                         0                0               0  \n233              0                         0                0               0  \n50               0                         0                0               0  \n56               1                         0                0               0  \n58               0                         0                0               0  \n217              0                         0                0               0  \n125              1                         0                0               0  \n182              1                         0                0               0  \n104              0                         0                0               0  ",
      "text/html": "<div>\n<style scoped>\n    .dataframe tbody tr th:only-of-type {\n        vertical-align: middle;\n    }\n\n    .dataframe tbody tr th {\n        vertical-align: top;\n    }\n\n    .dataframe thead th {\n        text-align: right;\n    }\n</style>\n<table border=\"1\" class=\"dataframe\">\n  <thead>\n    <tr style=\"text-align: right;\">\n      <th></th>\n      <th>gross_sale</th>\n      <th>qty</th>\n      <th>month</th>\n      <th>category_Achar</th>\n      <th>category_Beef</th>\n      <th>category_Beef Share</th>\n      <th>category_Beverages</th>\n      <th>category_Chicken</th>\n      <th>category_Cosmetic</th>\n      <th>category_Fish</th>\n      <th>category_Fresh Vegitable</th>\n      <th>category_Frozen</th>\n      <th>category_Goat</th>\n      <th>category_Grocery</th>\n      <th>category_Lamb</th>\n      <th>category_None</th>\n      <th>category_Ready Made Food</th>\n      <th>category_Spices</th>\n      <th>category_Sweet</th>\n    </tr>\n  </thead>\n  <tbody>\n    <tr>\n      <th>70</th>\n      <td>7.98</td>\n      <td>2.00</td>\n      <td>2</td>\n      <td>0</td>\n      <td>0</td>\n      <td>0</td>\n      <td>0</td>\n      <td>0</td>\n      <td>0</td>\n      <td>1</td>\n      <td>0</td>\n      <td>0</td>\n      <td>0</td>\n      <td>0</td>\n      <td>0</td>\n      <td>0</td>\n      <td>0</td>\n      <td>0</td>\n      <td>0</td>\n    </tr>\n    <tr>\n      <th>35</th>\n      <td>15.99</td>\n      <td>1.00</td>\n      <td>1</td>\n      <td>0</td>\n      <td>0</td>\n      <td>0</td>\n      <td>0</td>\n      <td>0</td>\n      <td>0</td>\n      <td>0</td>\n      <td>0</td>\n      <td>0</td>\n      <td>0</td>\n      <td>0</td>\n      <td>0</td>\n      <td>0</td>\n      <td>0</td>\n      <td>0</td>\n      <td>1</td>\n    </tr>\n    <tr>\n      <th>28</th>\n      <td>2.99</td>\n      <td>1.00</td>\n      <td>1</td>\n      <td>0</td>\n      <td>0</td>\n      <td>0</td>\n      <td>0</td>\n      <td>0</td>\n      <td>0</td>\n      <td>0</td>\n      <td>0</td>\n      <td>0</td>\n      <td>0</td>\n      <td>0</td>\n      <td>0</td>\n      <td>0</td>\n      <td>0</td>\n      <td>1</td>\n      <td>0</td>\n    </tr>\n    <tr>\n      <th>156</th>\n      <td>3.99</td>\n      <td>1.00</td>\n      <td>4</td>\n      <td>0</td>\n      <td>0</td>\n      <td>0</td>\n      <td>0</td>\n      <td>0</td>\n      <td>0</td>\n      <td>0</td>\n      <td>0</td>\n      <td>0</td>\n      <td>0</td>\n      <td>0</td>\n      <td>0</td>\n      <td>0</td>\n      <td>0</td>\n      <td>1</td>\n      <td>0</td>\n    </tr>\n    <tr>\n      <th>27</th>\n      <td>3.49</td>\n      <td>1.00</td>\n      <td>1</td>\n      <td>0</td>\n      <td>0</td>\n      <td>0</td>\n      <td>0</td>\n      <td>0</td>\n      <td>0</td>\n      <td>0</td>\n      <td>0</td>\n      <td>1</td>\n      <td>0</td>\n      <td>0</td>\n      <td>0</td>\n      <td>0</td>\n      <td>0</td>\n      <td>0</td>\n      <td>0</td>\n    </tr>\n    <tr>\n      <th>130</th>\n      <td>2.40</td>\n      <td>0.48</td>\n      <td>3</td>\n      <td>0</td>\n      <td>0</td>\n      <td>0</td>\n      <td>0</td>\n      <td>0</td>\n      <td>0</td>\n      <td>0</td>\n      <td>1</td>\n      <td>0</td>\n      <td>0</td>\n      <td>0</td>\n      <td>0</td>\n      <td>0</td>\n      <td>0</td>\n      <td>0</td>\n      <td>0</td>\n    </tr>\n    <tr>\n      <th>196</th>\n      <td>6.98</td>\n      <td>2.00</td>\n      <td>4</td>\n      <td>0</td>\n      <td>0</td>\n      <td>0</td>\n      <td>0</td>\n      <td>0</td>\n      <td>0</td>\n      <td>0</td>\n      <td>0</td>\n      <td>1</td>\n      <td>0</td>\n      <td>0</td>\n      <td>0</td>\n      <td>0</td>\n      <td>0</td>\n      <td>0</td>\n      <td>0</td>\n    </tr>\n    <tr>\n      <th>214</th>\n      <td>7.32</td>\n      <td>1.63</td>\n      <td>5</td>\n      <td>0</td>\n      <td>0</td>\n      <td>0</td>\n      <td>0</td>\n      <td>0</td>\n      <td>0</td>\n      <td>0</td>\n      <td>1</td>\n      <td>0</td>\n      <td>0</td>\n      <td>0</td>\n      <td>0</td>\n      <td>0</td>\n      <td>0</td>\n      <td>0</td>\n      <td>0</td>\n    </tr>\n    <tr>\n      <th>114</th>\n      <td>5.99</td>\n      <td>1.20</td>\n      <td>3</td>\n      <td>0</td>\n      <td>0</td>\n      <td>0</td>\n      <td>0</td>\n      <td>0</td>\n      <td>0</td>\n      <td>0</td>\n      <td>1</td>\n      <td>0</td>\n      <td>0</td>\n      <td>0</td>\n      <td>0</td>\n      <td>0</td>\n      <td>0</td>\n      <td>0</td>\n      <td>0</td>\n    </tr>\n    <tr>\n      <th>98</th>\n      <td>8.52</td>\n      <td>2.44</td>\n      <td>3</td>\n      <td>0</td>\n      <td>1</td>\n      <td>0</td>\n      <td>0</td>\n      <td>0</td>\n      <td>0</td>\n      <td>0</td>\n      <td>0</td>\n      <td>0</td>\n      <td>0</td>\n      <td>0</td>\n      <td>0</td>\n      <td>0</td>\n      <td>0</td>\n      <td>0</td>\n      <td>0</td>\n    </tr>\n    <tr>\n      <th>129</th>\n      <td>1.50</td>\n      <td>1.00</td>\n      <td>3</td>\n      <td>0</td>\n      <td>0</td>\n      <td>0</td>\n      <td>0</td>\n      <td>0</td>\n      <td>0</td>\n      <td>0</td>\n      <td>1</td>\n      <td>0</td>\n      <td>0</td>\n      <td>0</td>\n      <td>0</td>\n      <td>0</td>\n      <td>0</td>\n      <td>0</td>\n      <td>0</td>\n    </tr>\n    <tr>\n      <th>160</th>\n      <td>34.68</td>\n      <td>6.95</td>\n      <td>4</td>\n      <td>0</td>\n      <td>1</td>\n      <td>0</td>\n      <td>0</td>\n      <td>0</td>\n      <td>0</td>\n      <td>0</td>\n      <td>0</td>\n      <td>0</td>\n      <td>0</td>\n      <td>0</td>\n      <td>0</td>\n      <td>0</td>\n      <td>0</td>\n      <td>0</td>\n      <td>0</td>\n    </tr>\n    <tr>\n      <th>242</th>\n      <td>7.53</td>\n      <td>1.51</td>\n      <td>5</td>\n      <td>0</td>\n      <td>0</td>\n      <td>0</td>\n      <td>0</td>\n      <td>0</td>\n      <td>0</td>\n      <td>0</td>\n      <td>1</td>\n      <td>0</td>\n      <td>0</td>\n      <td>0</td>\n      <td>0</td>\n      <td>0</td>\n      <td>0</td>\n      <td>0</td>\n      <td>0</td>\n    </tr>\n    <tr>\n      <th>5</th>\n      <td>4.49</td>\n      <td>1.00</td>\n      <td>1</td>\n      <td>0</td>\n      <td>0</td>\n      <td>0</td>\n      <td>0</td>\n      <td>0</td>\n      <td>0</td>\n      <td>0</td>\n      <td>1</td>\n      <td>0</td>\n      <td>0</td>\n      <td>0</td>\n      <td>0</td>\n      <td>0</td>\n      <td>0</td>\n      <td>0</td>\n      <td>0</td>\n    </tr>\n    <tr>\n      <th>100</th>\n      <td>16.79</td>\n      <td>5.81</td>\n      <td>3</td>\n      <td>0</td>\n      <td>0</td>\n      <td>0</td>\n      <td>0</td>\n      <td>0</td>\n      <td>0</td>\n      <td>1</td>\n      <td>0</td>\n      <td>0</td>\n      <td>0</td>\n      <td>0</td>\n      <td>0</td>\n      <td>0</td>\n      <td>0</td>\n      <td>0</td>\n      <td>0</td>\n    </tr>\n    <tr>\n      <th>23</th>\n      <td>24.20</td>\n      <td>1.73</td>\n      <td>1</td>\n      <td>0</td>\n      <td>0</td>\n      <td>0</td>\n      <td>0</td>\n      <td>0</td>\n      <td>0</td>\n      <td>1</td>\n      <td>0</td>\n      <td>0</td>\n      <td>0</td>\n      <td>0</td>\n      <td>0</td>\n      <td>0</td>\n      <td>0</td>\n      <td>0</td>\n      <td>0</td>\n    </tr>\n    <tr>\n      <th>47</th>\n      <td>6.56</td>\n      <td>3.14</td>\n      <td>2</td>\n      <td>0</td>\n      <td>0</td>\n      <td>0</td>\n      <td>0</td>\n      <td>1</td>\n      <td>0</td>\n      <td>0</td>\n      <td>0</td>\n      <td>0</td>\n      <td>0</td>\n      <td>0</td>\n      <td>0</td>\n      <td>0</td>\n      <td>0</td>\n      <td>0</td>\n      <td>0</td>\n    </tr>\n    <tr>\n      <th>54</th>\n      <td>2.00</td>\n      <td>1.00</td>\n      <td>2</td>\n      <td>0</td>\n      <td>0</td>\n      <td>0</td>\n      <td>0</td>\n      <td>0</td>\n      <td>0</td>\n      <td>0</td>\n      <td>0</td>\n      <td>0</td>\n      <td>0</td>\n      <td>0</td>\n      <td>0</td>\n      <td>0</td>\n      <td>1</td>\n      <td>0</td>\n      <td>0</td>\n    </tr>\n    <tr>\n      <th>238</th>\n      <td>1.25</td>\n      <td>1.00</td>\n      <td>5</td>\n      <td>0</td>\n      <td>0</td>\n      <td>0</td>\n      <td>0</td>\n      <td>0</td>\n      <td>0</td>\n      <td>0</td>\n      <td>0</td>\n      <td>0</td>\n      <td>0</td>\n      <td>0</td>\n      <td>0</td>\n      <td>0</td>\n      <td>1</td>\n      <td>0</td>\n      <td>0</td>\n    </tr>\n    <tr>\n      <th>237</th>\n      <td>4.00</td>\n      <td>1.00</td>\n      <td>5</td>\n      <td>0</td>\n      <td>0</td>\n      <td>0</td>\n      <td>0</td>\n      <td>0</td>\n      <td>0</td>\n      <td>0</td>\n      <td>0</td>\n      <td>0</td>\n      <td>0</td>\n      <td>0</td>\n      <td>0</td>\n      <td>0</td>\n      <td>1</td>\n      <td>0</td>\n      <td>0</td>\n    </tr>\n    <tr>\n      <th>176</th>\n      <td>3.99</td>\n      <td>1.00</td>\n      <td>4</td>\n      <td>0</td>\n      <td>0</td>\n      <td>0</td>\n      <td>0</td>\n      <td>0</td>\n      <td>0</td>\n      <td>1</td>\n      <td>0</td>\n      <td>0</td>\n      <td>0</td>\n      <td>0</td>\n      <td>0</td>\n      <td>0</td>\n      <td>0</td>\n      <td>0</td>\n      <td>0</td>\n    </tr>\n    <tr>\n      <th>21</th>\n      <td>21.65</td>\n      <td>6.56</td>\n      <td>1</td>\n      <td>0</td>\n      <td>0</td>\n      <td>0</td>\n      <td>0</td>\n      <td>1</td>\n      <td>0</td>\n      <td>0</td>\n      <td>0</td>\n      <td>0</td>\n      <td>0</td>\n      <td>0</td>\n      <td>0</td>\n      <td>0</td>\n      <td>0</td>\n      <td>0</td>\n      <td>0</td>\n    </tr>\n    <tr>\n      <th>108</th>\n      <td>5.49</td>\n      <td>1.00</td>\n      <td>3</td>\n      <td>0</td>\n      <td>0</td>\n      <td>0</td>\n      <td>0</td>\n      <td>0</td>\n      <td>0</td>\n      <td>0</td>\n      <td>0</td>\n      <td>0</td>\n      <td>0</td>\n      <td>1</td>\n      <td>0</td>\n      <td>0</td>\n      <td>0</td>\n      <td>0</td>\n      <td>0</td>\n    </tr>\n    <tr>\n      <th>45</th>\n      <td>1.25</td>\n      <td>1.00</td>\n      <td>1</td>\n      <td>0</td>\n      <td>0</td>\n      <td>0</td>\n      <td>0</td>\n      <td>0</td>\n      <td>0</td>\n      <td>0</td>\n      <td>1</td>\n      <td>0</td>\n      <td>0</td>\n      <td>0</td>\n      <td>0</td>\n      <td>0</td>\n      <td>0</td>\n      <td>0</td>\n      <td>0</td>\n    </tr>\n    <tr>\n      <th>68</th>\n      <td>3.49</td>\n      <td>1.00</td>\n      <td>2</td>\n      <td>0</td>\n      <td>0</td>\n      <td>0</td>\n      <td>0</td>\n      <td>0</td>\n      <td>0</td>\n      <td>0</td>\n      <td>0</td>\n      <td>0</td>\n      <td>0</td>\n      <td>1</td>\n      <td>0</td>\n      <td>0</td>\n      <td>0</td>\n      <td>0</td>\n      <td>0</td>\n    </tr>\n    <tr>\n      <th>77</th>\n      <td>5.49</td>\n      <td>1.00</td>\n      <td>2</td>\n      <td>0</td>\n      <td>0</td>\n      <td>0</td>\n      <td>0</td>\n      <td>0</td>\n      <td>0</td>\n      <td>1</td>\n      <td>0</td>\n      <td>0</td>\n      <td>0</td>\n      <td>0</td>\n      <td>0</td>\n      <td>0</td>\n      <td>0</td>\n      <td>0</td>\n      <td>0</td>\n    </tr>\n    <tr>\n      <th>3</th>\n      <td>25.37</td>\n      <td>5.78</td>\n      <td>1</td>\n      <td>0</td>\n      <td>1</td>\n      <td>0</td>\n      <td>0</td>\n      <td>0</td>\n      <td>0</td>\n      <td>0</td>\n      <td>0</td>\n      <td>0</td>\n      <td>0</td>\n      <td>0</td>\n      <td>0</td>\n      <td>0</td>\n      <td>0</td>\n      <td>0</td>\n      <td>0</td>\n    </tr>\n    <tr>\n      <th>103</th>\n      <td>4.99</td>\n      <td>1.00</td>\n      <td>3</td>\n      <td>0</td>\n      <td>0</td>\n      <td>0</td>\n      <td>0</td>\n      <td>0</td>\n      <td>0</td>\n      <td>0</td>\n      <td>0</td>\n      <td>1</td>\n      <td>0</td>\n      <td>0</td>\n      <td>0</td>\n      <td>0</td>\n      <td>0</td>\n      <td>0</td>\n      <td>0</td>\n    </tr>\n    <tr>\n      <th>178</th>\n      <td>5.97</td>\n      <td>3.00</td>\n      <td>4</td>\n      <td>0</td>\n      <td>0</td>\n      <td>0</td>\n      <td>0</td>\n      <td>0</td>\n      <td>0</td>\n      <td>0</td>\n      <td>0</td>\n      <td>0</td>\n      <td>0</td>\n      <td>0</td>\n      <td>0</td>\n      <td>0</td>\n      <td>0</td>\n      <td>1</td>\n      <td>0</td>\n    </tr>\n    <tr>\n      <th>110</th>\n      <td>5.49</td>\n      <td>1.00</td>\n      <td>3</td>\n      <td>0</td>\n      <td>0</td>\n      <td>0</td>\n      <td>0</td>\n      <td>0</td>\n      <td>0</td>\n      <td>0</td>\n      <td>0</td>\n      <td>0</td>\n      <td>0</td>\n      <td>1</td>\n      <td>0</td>\n      <td>0</td>\n      <td>0</td>\n      <td>0</td>\n      <td>0</td>\n    </tr>\n    <tr>\n      <th>76</th>\n      <td>7.99</td>\n      <td>1.00</td>\n      <td>2</td>\n      <td>0</td>\n      <td>0</td>\n      <td>0</td>\n      <td>0</td>\n      <td>0</td>\n      <td>0</td>\n      <td>0</td>\n      <td>0</td>\n      <td>0</td>\n      <td>0</td>\n      <td>1</td>\n      <td>0</td>\n      <td>0</td>\n      <td>0</td>\n      <td>0</td>\n      <td>0</td>\n    </tr>\n    <tr>\n      <th>1</th>\n      <td>3.49</td>\n      <td>1.00</td>\n      <td>1</td>\n      <td>0</td>\n      <td>0</td>\n      <td>0</td>\n      <td>0</td>\n      <td>0</td>\n      <td>0</td>\n      <td>0</td>\n      <td>0</td>\n      <td>0</td>\n      <td>0</td>\n      <td>1</td>\n      <td>0</td>\n      <td>0</td>\n      <td>0</td>\n      <td>0</td>\n      <td>0</td>\n    </tr>\n    <tr>\n      <th>95</th>\n      <td>6.98</td>\n      <td>2.00</td>\n      <td>2</td>\n      <td>0</td>\n      <td>0</td>\n      <td>0</td>\n      <td>0</td>\n      <td>0</td>\n      <td>0</td>\n      <td>0</td>\n      <td>0</td>\n      <td>0</td>\n      <td>0</td>\n      <td>1</td>\n      <td>0</td>\n      <td>0</td>\n      <td>0</td>\n      <td>0</td>\n      <td>0</td>\n    </tr>\n    <tr>\n      <th>140</th>\n      <td>8.97</td>\n      <td>3.00</td>\n      <td>3</td>\n      <td>0</td>\n      <td>0</td>\n      <td>0</td>\n      <td>0</td>\n      <td>0</td>\n      <td>0</td>\n      <td>0</td>\n      <td>0</td>\n      <td>0</td>\n      <td>0</td>\n      <td>1</td>\n      <td>0</td>\n      <td>0</td>\n      <td>0</td>\n      <td>0</td>\n      <td>0</td>\n    </tr>\n    <tr>\n      <th>96</th>\n      <td>1.45</td>\n      <td>1.00</td>\n      <td>2</td>\n      <td>0</td>\n      <td>0</td>\n      <td>0</td>\n      <td>0</td>\n      <td>0</td>\n      <td>0</td>\n      <td>0</td>\n      <td>0</td>\n      <td>0</td>\n      <td>0</td>\n      <td>0</td>\n      <td>0</td>\n      <td>0</td>\n      <td>0</td>\n      <td>1</td>\n      <td>0</td>\n    </tr>\n    <tr>\n      <th>73</th>\n      <td>2.10</td>\n      <td>0.42</td>\n      <td>2</td>\n      <td>0</td>\n      <td>0</td>\n      <td>0</td>\n      <td>0</td>\n      <td>0</td>\n      <td>0</td>\n      <td>0</td>\n      <td>1</td>\n      <td>0</td>\n      <td>0</td>\n      <td>0</td>\n      <td>0</td>\n      <td>0</td>\n      <td>0</td>\n      <td>0</td>\n      <td>0</td>\n    </tr>\n    <tr>\n      <th>99</th>\n      <td>7.99</td>\n      <td>1.00</td>\n      <td>3</td>\n      <td>0</td>\n      <td>0</td>\n      <td>0</td>\n      <td>0</td>\n      <td>0</td>\n      <td>0</td>\n      <td>0</td>\n      <td>0</td>\n      <td>1</td>\n      <td>0</td>\n      <td>0</td>\n      <td>0</td>\n      <td>0</td>\n      <td>0</td>\n      <td>0</td>\n      <td>0</td>\n    </tr>\n    <tr>\n      <th>14</th>\n      <td>7.99</td>\n      <td>1.00</td>\n      <td>1</td>\n      <td>0</td>\n      <td>0</td>\n      <td>0</td>\n      <td>0</td>\n      <td>0</td>\n      <td>0</td>\n      <td>0</td>\n      <td>0</td>\n      <td>1</td>\n      <td>0</td>\n      <td>0</td>\n      <td>0</td>\n      <td>0</td>\n      <td>0</td>\n      <td>0</td>\n      <td>0</td>\n    </tr>\n    <tr>\n      <th>69</th>\n      <td>3.49</td>\n      <td>1.00</td>\n      <td>2</td>\n      <td>0</td>\n      <td>0</td>\n      <td>0</td>\n      <td>0</td>\n      <td>0</td>\n      <td>0</td>\n      <td>0</td>\n      <td>0</td>\n      <td>1</td>\n      <td>0</td>\n      <td>0</td>\n      <td>0</td>\n      <td>0</td>\n      <td>0</td>\n      <td>0</td>\n      <td>0</td>\n    </tr>\n    <tr>\n      <th>127</th>\n      <td>7.99</td>\n      <td>1.00</td>\n      <td>3</td>\n      <td>0</td>\n      <td>0</td>\n      <td>0</td>\n      <td>0</td>\n      <td>0</td>\n      <td>0</td>\n      <td>0</td>\n      <td>0</td>\n      <td>1</td>\n      <td>0</td>\n      <td>0</td>\n      <td>0</td>\n      <td>0</td>\n      <td>0</td>\n      <td>0</td>\n      <td>0</td>\n    </tr>\n    <tr>\n      <th>184</th>\n      <td>9.24</td>\n      <td>2.80</td>\n      <td>4</td>\n      <td>0</td>\n      <td>0</td>\n      <td>0</td>\n      <td>0</td>\n      <td>1</td>\n      <td>0</td>\n      <td>0</td>\n      <td>0</td>\n      <td>0</td>\n      <td>0</td>\n      <td>0</td>\n      <td>0</td>\n      <td>0</td>\n      <td>0</td>\n      <td>0</td>\n      <td>0</td>\n    </tr>\n    <tr>\n      <th>55</th>\n      <td>12.48</td>\n      <td>2.50</td>\n      <td>2</td>\n      <td>0</td>\n      <td>0</td>\n      <td>0</td>\n      <td>0</td>\n      <td>0</td>\n      <td>0</td>\n      <td>0</td>\n      <td>1</td>\n      <td>0</td>\n      <td>0</td>\n      <td>0</td>\n      <td>0</td>\n      <td>0</td>\n      <td>0</td>\n      <td>0</td>\n      <td>0</td>\n    </tr>\n    <tr>\n      <th>233</th>\n      <td>19.47</td>\n      <td>3.25</td>\n      <td>5</td>\n      <td>0</td>\n      <td>0</td>\n      <td>0</td>\n      <td>0</td>\n      <td>0</td>\n      <td>0</td>\n      <td>1</td>\n      <td>0</td>\n      <td>0</td>\n      <td>0</td>\n      <td>0</td>\n      <td>0</td>\n      <td>0</td>\n      <td>0</td>\n      <td>0</td>\n      <td>0</td>\n    </tr>\n    <tr>\n      <th>50</th>\n      <td>8.99</td>\n      <td>1.00</td>\n      <td>2</td>\n      <td>0</td>\n      <td>0</td>\n      <td>0</td>\n      <td>0</td>\n      <td>0</td>\n      <td>0</td>\n      <td>1</td>\n      <td>0</td>\n      <td>0</td>\n      <td>0</td>\n      <td>0</td>\n      <td>0</td>\n      <td>0</td>\n      <td>0</td>\n      <td>0</td>\n      <td>0</td>\n    </tr>\n    <tr>\n      <th>56</th>\n      <td>0.02</td>\n      <td>1.00</td>\n      <td>2</td>\n      <td>0</td>\n      <td>0</td>\n      <td>0</td>\n      <td>0</td>\n      <td>0</td>\n      <td>0</td>\n      <td>0</td>\n      <td>0</td>\n      <td>0</td>\n      <td>0</td>\n      <td>0</td>\n      <td>0</td>\n      <td>1</td>\n      <td>0</td>\n      <td>0</td>\n      <td>0</td>\n    </tr>\n    <tr>\n      <th>58</th>\n      <td>1.99</td>\n      <td>1.00</td>\n      <td>2</td>\n      <td>0</td>\n      <td>0</td>\n      <td>0</td>\n      <td>0</td>\n      <td>0</td>\n      <td>0</td>\n      <td>0</td>\n      <td>1</td>\n      <td>0</td>\n      <td>0</td>\n      <td>0</td>\n      <td>0</td>\n      <td>0</td>\n      <td>0</td>\n      <td>0</td>\n      <td>0</td>\n    </tr>\n    <tr>\n      <th>217</th>\n      <td>5.79</td>\n      <td>1.16</td>\n      <td>5</td>\n      <td>0</td>\n      <td>0</td>\n      <td>0</td>\n      <td>0</td>\n      <td>0</td>\n      <td>0</td>\n      <td>0</td>\n      <td>1</td>\n      <td>0</td>\n      <td>0</td>\n      <td>0</td>\n      <td>0</td>\n      <td>0</td>\n      <td>0</td>\n      <td>0</td>\n      <td>0</td>\n    </tr>\n    <tr>\n      <th>125</th>\n      <td>1.99</td>\n      <td>1.00</td>\n      <td>3</td>\n      <td>0</td>\n      <td>0</td>\n      <td>0</td>\n      <td>0</td>\n      <td>0</td>\n      <td>0</td>\n      <td>0</td>\n      <td>0</td>\n      <td>0</td>\n      <td>0</td>\n      <td>0</td>\n      <td>0</td>\n      <td>1</td>\n      <td>0</td>\n      <td>0</td>\n      <td>0</td>\n    </tr>\n    <tr>\n      <th>182</th>\n      <td>49.25</td>\n      <td>1.00</td>\n      <td>4</td>\n      <td>0</td>\n      <td>0</td>\n      <td>0</td>\n      <td>0</td>\n      <td>0</td>\n      <td>0</td>\n      <td>0</td>\n      <td>0</td>\n      <td>0</td>\n      <td>0</td>\n      <td>0</td>\n      <td>0</td>\n      <td>1</td>\n      <td>0</td>\n      <td>0</td>\n      <td>0</td>\n    </tr>\n    <tr>\n      <th>104</th>\n      <td>4.89</td>\n      <td>1.00</td>\n      <td>3</td>\n      <td>0</td>\n      <td>0</td>\n      <td>0</td>\n      <td>0</td>\n      <td>0</td>\n      <td>0</td>\n      <td>1</td>\n      <td>0</td>\n      <td>0</td>\n      <td>0</td>\n      <td>0</td>\n      <td>0</td>\n      <td>0</td>\n      <td>0</td>\n      <td>0</td>\n      <td>0</td>\n    </tr>\n  </tbody>\n</table>\n</div>"
     },
     "metadata": {},
     "output_type": "execute_result",
     "execution_count": 7
    }
   ],
   "source": [
    "\n",
    "\n",
    "\n",
    "\n",
    "X_train, X_test, y_train, y_test = train_test_split(X, y, test_size=0.2, random_state=109) # 70% training and 30% test\n",
    "\n",
    "X_test"
   ],
   "metadata": {
    "collapsed": false,
    "pycharm": {
     "name": "#%%\n",
     "is_executing": false
    }
   }
  },
  {
   "cell_type": "code",
   "execution_count": 8,
   "outputs": [],
   "source": [
    "#X_test.to_csv(file_name_pre, index= False, header=True)"
   ],
   "metadata": {
    "collapsed": false,
    "pycharm": {
     "name": "#%%\n",
     "is_executing": false
    }
   }
  },
  {
   "cell_type": "code",
   "execution_count": 9,
   "outputs": [
    {
     "data": {
      "text/plain": "SVC(C=1.0, break_ties=False, cache_size=200, class_weight=None, coef0=0.0,\n    decision_function_shape='ovr', degree=3, gamma='scale', kernel='linear',\n    max_iter=-1, probability=False, random_state=None, shrinking=True,\n    tol=0.001, verbose=False)"
     },
     "metadata": {},
     "output_type": "execute_result",
     "execution_count": 9
    }
   ],
   "source": [
    "svm_class = svm.SVC(kernel='linear')\n",
    "svm_class.fit(X_train, y_train)"
   ],
   "metadata": {
    "collapsed": false,
    "pycharm": {
     "name": "#%%\n",
     "is_executing": false
    }
   }
  },
  {
   "cell_type": "code",
   "execution_count": 10,
   "outputs": [
    {
     "name": "stdout",
     "text": [
      "   Class\n0    Low\n1    Low\n2    Low\n3    Low\n4    Low\n5   High\n6    Low\n7   High\n8   High\n9   High\n10  High\n11  High\n12  High\n13  High\n14   Low\n15   Low\n16   Low\n17  High\n18  High\n19  High\n20   Low\n21   Low\n22   Low\n23  High\n24   Low\n25   Low\n26  High\n27   Low\n28   Low\n29   Low\n30   Low\n31   Low\n32   Low\n33   Low\n34   Low\n35  High\n36   Low\n37   Low\n38   Low\n39   Low\n40   Low\n41  High\n42   Low\n43   Low\n44  High\n45  High\n46  High\n47  High\n48  High\n49   Low\n"
     ],
     "output_type": "stream"
    }
   ],
   "source": [
    "y_pred = svm_class.predict(X_test)\n",
    "newdf = pd.DataFrame(y_pred, columns=['Class'])\n",
    "newdf = newdf.replace({1: 'Low', 2: 'Medium', 3: 'High'})\n",
    "print(newdf)"
   ],
   "metadata": {
    "collapsed": false,
    "pycharm": {
     "name": "#%%\n",
     "is_executing": false
    }
   }
  },
  {
   "cell_type": "code",
   "execution_count": 11,
   "outputs": [
    {
     "data": {
      "text/plain": "['product_model.pkl']"
     },
     "metadata": {},
     "output_type": "execute_result",
     "execution_count": 11
    }
   ],
   "source": [
    "filename = 'product_model.pkl'\n",
    "joblib.dump(svm_class, filename)\n"
   ],
   "metadata": {
    "collapsed": false,
    "pycharm": {
     "name": "#%%\n",
     "is_executing": false
    }
   }
  },
  {
   "cell_type": "code",
   "execution_count": 12,
   "outputs": [
    {
     "name": "stdout",
     "text": [
      "0.82\n"
     ],
     "output_type": "stream"
    }
   ],
   "source": [
    "acc = metrics.accuracy_score(y_test, y_pred)\n",
    "print(acc)\n",
    "\n"
   ],
   "metadata": {
    "collapsed": false,
    "pycharm": {
     "name": "#%%\n",
     "is_executing": false
    }
   }
  },
  {
   "cell_type": "code",
   "execution_count": 13,
   "outputs": [
    {
     "name": "stdout",
     "text": [
      "0.82\n0.82\n"
     ],
     "output_type": "stream"
    }
   ],
   "source": [
    "Precision = metrics.precision_score(y_test, y_pred, average='micro')\n",
    "print(Precision)\n",
    "\n",
    "Recall = metrics.recall_score(y_test, y_pred, average='micro')\n",
    "print(Recall)\n"
   ],
   "metadata": {
    "collapsed": false,
    "pycharm": {
     "name": "#%%\n",
     "is_executing": false
    }
   }
  },
  {
   "cell_type": "code",
   "execution_count": 13,
   "outputs": [],
   "source": [],
   "metadata": {
    "collapsed": false,
    "pycharm": {
     "name": "#%%\n",
     "is_executing": false
    }
   }
  },
  {
   "cell_type": "code",
   "execution_count": null,
   "outputs": [],
   "source": [
    "\n"
   ],
   "metadata": {
    "collapsed": false,
    "pycharm": {
     "name": "#%%\n"
    }
   }
  }
 ],
 "metadata": {
  "kernelspec": {
   "display_name": "Python 3",
   "language": "python",
   "name": "python3"
  },
  "language_info": {
   "codemirror_mode": {
    "name": "ipython",
    "version": 2
   },
   "file_extension": ".py",
   "mimetype": "text/x-python",
   "name": "python",
   "nbconvert_exporter": "python",
   "pygments_lexer": "ipython2",
   "version": "2.7.6"
  },
  "pycharm": {
   "stem_cell": {
    "cell_type": "raw",
    "source": [],
    "metadata": {
     "collapsed": false
    }
   }
  }
 },
 "nbformat": 4,
 "nbformat_minor": 0
}